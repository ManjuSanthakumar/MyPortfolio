{
 "cells": [
  {
   "cell_type": "code",
   "execution_count": 3,
   "id": "910ba337-cbab-4b1a-85cc-218adf32e8b2",
   "metadata": {},
   "outputs": [],
   "source": [
    "#import libraries\n",
    "import pandas as pd\n",
    "import numpy as np\n",
    "import matplotlib.pyplot as plt\n",
    "import seaborn as sns\n",
    "import plotly.express as px"
   ]
  },
  {
   "cell_type": "code",
   "execution_count": 5,
   "id": "57fb2239-ca34-4826-83d1-a8c41adf3d33",
   "metadata": {},
   "outputs": [
    {
     "name": "stdout",
     "output_type": "stream",
     "text": [
      "Collecting kaggle\n",
      "  Downloading kaggle-1.6.17.tar.gz (82 kB)\n",
      "     ---------------------------------------- 0.0/82.7 kB ? eta -:--:--\n",
      "     ---------------------------------------- 0.0/82.7 kB ? eta -:--:--\n",
      "     -------------- ------------------------- 30.7/82.7 kB 1.4 MB/s eta 0:00:01\n",
      "     -------------------------------------- 82.7/82.7 kB 928.9 kB/s eta 0:00:00\n",
      "  Preparing metadata (setup.py): started\n",
      "  Preparing metadata (setup.py): finished with status 'done'\n",
      "Requirement already satisfied: six>=1.10 in c:\\users\\manju\\anaconda3\\lib\\site-packages (from kaggle) (1.16.0)\n",
      "Requirement already satisfied: certifi>=2023.7.22 in c:\\users\\manju\\anaconda3\\lib\\site-packages (from kaggle) (2024.7.4)\n",
      "Requirement already satisfied: python-dateutil in c:\\users\\manju\\anaconda3\\lib\\site-packages (from kaggle) (2.9.0.post0)\n",
      "Requirement already satisfied: requests in c:\\users\\manju\\anaconda3\\lib\\site-packages (from kaggle) (2.32.2)\n",
      "Requirement already satisfied: tqdm in c:\\users\\manju\\anaconda3\\lib\\site-packages (from kaggle) (4.66.4)\n",
      "Requirement already satisfied: python-slugify in c:\\users\\manju\\anaconda3\\lib\\site-packages (from kaggle) (5.0.2)\n",
      "Requirement already satisfied: urllib3 in c:\\users\\manju\\anaconda3\\lib\\site-packages (from kaggle) (2.2.2)\n",
      "Requirement already satisfied: bleach in c:\\users\\manju\\anaconda3\\lib\\site-packages (from kaggle) (4.1.0)\n",
      "Requirement already satisfied: packaging in c:\\users\\manju\\anaconda3\\lib\\site-packages (from bleach->kaggle) (23.2)\n",
      "Requirement already satisfied: webencodings in c:\\users\\manju\\anaconda3\\lib\\site-packages (from bleach->kaggle) (0.5.1)\n",
      "Requirement already satisfied: text-unidecode>=1.3 in c:\\users\\manju\\anaconda3\\lib\\site-packages (from python-slugify->kaggle) (1.3)\n",
      "Requirement already satisfied: charset-normalizer<4,>=2 in c:\\users\\manju\\anaconda3\\lib\\site-packages (from requests->kaggle) (2.0.4)\n",
      "Requirement already satisfied: idna<4,>=2.5 in c:\\users\\manju\\anaconda3\\lib\\site-packages (from requests->kaggle) (3.7)\n",
      "Requirement already satisfied: colorama in c:\\users\\manju\\anaconda3\\lib\\site-packages (from tqdm->kaggle) (0.4.6)\n",
      "Building wheels for collected packages: kaggle\n",
      "  Building wheel for kaggle (setup.py): started\n",
      "  Building wheel for kaggle (setup.py): finished with status 'done'\n",
      "  Created wheel for kaggle: filename=kaggle-1.6.17-py3-none-any.whl size=105795 sha256=98efb530072f9991595983a23518c7655609d3d0f84d77daecb3edc61e9eef71\n",
      "  Stored in directory: c:\\users\\manju\\appdata\\local\\pip\\cache\\wheels\\46\\d2\\26\\84d0a1acdb9c6baccf7d28cf06962ec80529fe1ad938489983\n",
      "Successfully built kaggle\n",
      "Installing collected packages: kaggle\n",
      "Successfully installed kaggle-1.6.17\n"
     ]
    }
   ],
   "source": [
    "#download and import kaggle to extract the data\n",
    "!pip install kaggle\n",
    "import kaggle"
   ]
  },
  {
   "cell_type": "code",
   "execution_count": 9,
   "id": "31831e07-fc9a-416e-a7b8-09f4d7a090eb",
   "metadata": {},
   "outputs": [
    {
     "name": "stdout",
     "output_type": "stream",
     "text": [
      "Dataset URL: https://www.kaggle.com/datasets/samruddhi4040/online-sales-data\n",
      "License(s): CC0-1.0\n",
      "Downloading Orders.csv to C:\\Users\\manju\\Desktop\\Projects\\Online_Sales\n",
      "\n"
     ]
    },
    {
     "name": "stderr",
     "output_type": "stream",
     "text": [
      "\n",
      "  0%|          | 0.00/22.7k [00:00<?, ?B/s]\n",
      "100%|##########| 22.7k/22.7k [00:00<00:00, 82.0kB/s]\n",
      "100%|##########| 22.7k/22.7k [00:00<00:00, 81.7kB/s]\n"
     ]
    }
   ],
   "source": [
    "#extract the files from kaggle\n",
    "!kaggle datasets download samruddhi4040/online-sales-data -f Orders.csv"
   ]
  },
  {
   "cell_type": "code",
   "execution_count": 11,
   "id": "a7ca6b50-681e-40ec-9393-fdc9140d19e3",
   "metadata": {},
   "outputs": [
    {
     "name": "stdout",
     "output_type": "stream",
     "text": [
      "Dataset URL: https://www.kaggle.com/datasets/samruddhi4040/online-sales-data\n",
      "License(s): CC0-1.0\n",
      "Downloading Details.csv to C:\\Users\\manju\\Desktop\\Projects\\Online_Sales\n",
      "\n"
     ]
    },
    {
     "name": "stderr",
     "output_type": "stream",
     "text": [
      "\n",
      "  0%|          | 0.00/61.9k [00:00<?, ?B/s]\n",
      "100%|##########| 61.9k/61.9k [00:00<00:00, 105kB/s]\n",
      "100%|##########| 61.9k/61.9k [00:00<00:00, 105kB/s]\n"
     ]
    }
   ],
   "source": [
    "!kaggle datasets download samruddhi4040/online-sales-data -f Details.csv"
   ]
  },
  {
   "cell_type": "code",
   "execution_count": 15,
   "id": "0be375e2-3810-414d-88c1-cb943db926dc",
   "metadata": {},
   "outputs": [
    {
     "data": {
      "text/html": [
       "<div>\n",
       "<style scoped>\n",
       "    .dataframe tbody tr th:only-of-type {\n",
       "        vertical-align: middle;\n",
       "    }\n",
       "\n",
       "    .dataframe tbody tr th {\n",
       "        vertical-align: top;\n",
       "    }\n",
       "\n",
       "    .dataframe thead th {\n",
       "        text-align: right;\n",
       "    }\n",
       "</style>\n",
       "<table border=\"1\" class=\"dataframe\">\n",
       "  <thead>\n",
       "    <tr style=\"text-align: right;\">\n",
       "      <th></th>\n",
       "      <th>Order ID</th>\n",
       "      <th>Order Date</th>\n",
       "      <th>CustomerName</th>\n",
       "      <th>State</th>\n",
       "      <th>City</th>\n",
       "    </tr>\n",
       "  </thead>\n",
       "  <tbody>\n",
       "    <tr>\n",
       "      <th>0</th>\n",
       "      <td>B-26055</td>\n",
       "      <td>10-03-2018</td>\n",
       "      <td>Harivansh</td>\n",
       "      <td>Uttar Pradesh</td>\n",
       "      <td>Mathura</td>\n",
       "    </tr>\n",
       "    <tr>\n",
       "      <th>1</th>\n",
       "      <td>B-25993</td>\n",
       "      <td>03-02-2018</td>\n",
       "      <td>Madhav</td>\n",
       "      <td>Delhi</td>\n",
       "      <td>Delhi</td>\n",
       "    </tr>\n",
       "    <tr>\n",
       "      <th>2</th>\n",
       "      <td>B-25973</td>\n",
       "      <td>24-01-2018</td>\n",
       "      <td>Madan Mohan</td>\n",
       "      <td>Uttar Pradesh</td>\n",
       "      <td>Mathura</td>\n",
       "    </tr>\n",
       "    <tr>\n",
       "      <th>3</th>\n",
       "      <td>B-25923</td>\n",
       "      <td>27-12-2018</td>\n",
       "      <td>Gopal</td>\n",
       "      <td>Maharashtra</td>\n",
       "      <td>Mumbai</td>\n",
       "    </tr>\n",
       "    <tr>\n",
       "      <th>4</th>\n",
       "      <td>B-25757</td>\n",
       "      <td>21-08-2018</td>\n",
       "      <td>Vishakha</td>\n",
       "      <td>Madhya Pradesh</td>\n",
       "      <td>Indore</td>\n",
       "    </tr>\n",
       "  </tbody>\n",
       "</table>\n",
       "</div>"
      ],
      "text/plain": [
       "  Order ID  Order Date CustomerName           State     City\n",
       "0  B-26055  10-03-2018    Harivansh   Uttar Pradesh  Mathura\n",
       "1  B-25993  03-02-2018       Madhav           Delhi    Delhi\n",
       "2  B-25973  24-01-2018  Madan Mohan   Uttar Pradesh  Mathura\n",
       "3  B-25923  27-12-2018        Gopal     Maharashtra   Mumbai\n",
       "4  B-25757  21-08-2018     Vishakha  Madhya Pradesh   Indore"
      ]
     },
     "execution_count": 15,
     "metadata": {},
     "output_type": "execute_result"
    }
   ],
   "source": [
    "#Loading the datasets\n",
    "df1 = pd.read_csv('Orders.csv')\n",
    "df1.head()"
   ]
  },
  {
   "cell_type": "code",
   "execution_count": 18,
   "id": "c0970045-e685-4595-806e-5fb6674a9f19",
   "metadata": {},
   "outputs": [
    {
     "data": {
      "text/plain": [
       "Order ID        0\n",
       "Order Date      0\n",
       "CustomerName    0\n",
       "State           0\n",
       "City            0\n",
       "dtype: int64"
      ]
     },
     "execution_count": 18,
     "metadata": {},
     "output_type": "execute_result"
    }
   ],
   "source": [
    "#Check if there any null values\n",
    "df1.isnull().sum()"
   ]
  },
  {
   "cell_type": "code",
   "execution_count": 20,
   "id": "2d619962-7751-4b29-8fd5-c3abc9cff597",
   "metadata": {},
   "outputs": [
    {
     "data": {
      "text/plain": [
       "0"
      ]
     },
     "execution_count": 20,
     "metadata": {},
     "output_type": "execute_result"
    }
   ],
   "source": [
    "#Check if there any duplicate values\n",
    "df1.duplicated().sum()"
   ]
  },
  {
   "cell_type": "code",
   "execution_count": 22,
   "id": "ce905608-7073-43f4-ba4a-65ebb1153765",
   "metadata": {},
   "outputs": [
    {
     "data": {
      "text/html": [
       "<div>\n",
       "<style scoped>\n",
       "    .dataframe tbody tr th:only-of-type {\n",
       "        vertical-align: middle;\n",
       "    }\n",
       "\n",
       "    .dataframe tbody tr th {\n",
       "        vertical-align: top;\n",
       "    }\n",
       "\n",
       "    .dataframe thead th {\n",
       "        text-align: right;\n",
       "    }\n",
       "</style>\n",
       "<table border=\"1\" class=\"dataframe\">\n",
       "  <thead>\n",
       "    <tr style=\"text-align: right;\">\n",
       "      <th></th>\n",
       "      <th>Order ID</th>\n",
       "      <th>Amount</th>\n",
       "      <th>Profit</th>\n",
       "      <th>Quantity</th>\n",
       "      <th>Category</th>\n",
       "      <th>Sub-Category</th>\n",
       "      <th>PaymentMode</th>\n",
       "    </tr>\n",
       "  </thead>\n",
       "  <tbody>\n",
       "    <tr>\n",
       "      <th>0</th>\n",
       "      <td>B-25681</td>\n",
       "      <td>1096</td>\n",
       "      <td>658</td>\n",
       "      <td>7</td>\n",
       "      <td>Electronics</td>\n",
       "      <td>Electronic Games</td>\n",
       "      <td>COD</td>\n",
       "    </tr>\n",
       "    <tr>\n",
       "      <th>1</th>\n",
       "      <td>B-26055</td>\n",
       "      <td>5729</td>\n",
       "      <td>64</td>\n",
       "      <td>14</td>\n",
       "      <td>Furniture</td>\n",
       "      <td>Chairs</td>\n",
       "      <td>EMI</td>\n",
       "    </tr>\n",
       "    <tr>\n",
       "      <th>2</th>\n",
       "      <td>B-25955</td>\n",
       "      <td>2927</td>\n",
       "      <td>146</td>\n",
       "      <td>8</td>\n",
       "      <td>Furniture</td>\n",
       "      <td>Bookcases</td>\n",
       "      <td>EMI</td>\n",
       "    </tr>\n",
       "    <tr>\n",
       "      <th>3</th>\n",
       "      <td>B-26093</td>\n",
       "      <td>2847</td>\n",
       "      <td>712</td>\n",
       "      <td>8</td>\n",
       "      <td>Electronics</td>\n",
       "      <td>Printers</td>\n",
       "      <td>Credit Card</td>\n",
       "    </tr>\n",
       "    <tr>\n",
       "      <th>4</th>\n",
       "      <td>B-25602</td>\n",
       "      <td>2617</td>\n",
       "      <td>1151</td>\n",
       "      <td>4</td>\n",
       "      <td>Electronics</td>\n",
       "      <td>Phones</td>\n",
       "      <td>Credit Card</td>\n",
       "    </tr>\n",
       "  </tbody>\n",
       "</table>\n",
       "</div>"
      ],
      "text/plain": [
       "  Order ID  Amount  Profit  Quantity     Category      Sub-Category  \\\n",
       "0  B-25681    1096     658         7  Electronics  Electronic Games   \n",
       "1  B-26055    5729      64        14    Furniture            Chairs   \n",
       "2  B-25955    2927     146         8    Furniture         Bookcases   \n",
       "3  B-26093    2847     712         8  Electronics          Printers   \n",
       "4  B-25602    2617    1151         4  Electronics            Phones   \n",
       "\n",
       "   PaymentMode  \n",
       "0          COD  \n",
       "1          EMI  \n",
       "2          EMI  \n",
       "3  Credit Card  \n",
       "4  Credit Card  "
      ]
     },
     "execution_count": 22,
     "metadata": {},
     "output_type": "execute_result"
    }
   ],
   "source": [
    "#Load the second dataset\n",
    "df2 = pd.read_csv('Details.csv')\n",
    "df2.head()"
   ]
  },
  {
   "cell_type": "code",
   "execution_count": 24,
   "id": "f3ddd923-a65b-4293-9466-02452866ca57",
   "metadata": {},
   "outputs": [
    {
     "data": {
      "text/plain": [
       "0"
      ]
     },
     "execution_count": 24,
     "metadata": {},
     "output_type": "execute_result"
    }
   ],
   "source": [
    "#Check if there is any null or duplicate values\n",
    "df2.isnull().sum()\n",
    "df2.duplicated().sum()"
   ]
  },
  {
   "cell_type": "code",
   "execution_count": 26,
   "id": "7136aa1e-9e6d-4dc7-acc2-406d2a9a2c2a",
   "metadata": {},
   "outputs": [
    {
     "data": {
      "text/html": [
       "<div>\n",
       "<style scoped>\n",
       "    .dataframe tbody tr th:only-of-type {\n",
       "        vertical-align: middle;\n",
       "    }\n",
       "\n",
       "    .dataframe tbody tr th {\n",
       "        vertical-align: top;\n",
       "    }\n",
       "\n",
       "    .dataframe thead th {\n",
       "        text-align: right;\n",
       "    }\n",
       "</style>\n",
       "<table border=\"1\" class=\"dataframe\">\n",
       "  <thead>\n",
       "    <tr style=\"text-align: right;\">\n",
       "      <th></th>\n",
       "      <th>Order ID</th>\n",
       "      <th>Order Date</th>\n",
       "      <th>CustomerName</th>\n",
       "      <th>State</th>\n",
       "      <th>City</th>\n",
       "    </tr>\n",
       "  </thead>\n",
       "  <tbody>\n",
       "    <tr>\n",
       "      <th>count</th>\n",
       "      <td>500</td>\n",
       "      <td>500</td>\n",
       "      <td>500</td>\n",
       "      <td>500</td>\n",
       "      <td>500</td>\n",
       "    </tr>\n",
       "    <tr>\n",
       "      <th>unique</th>\n",
       "      <td>500</td>\n",
       "      <td>307</td>\n",
       "      <td>336</td>\n",
       "      <td>19</td>\n",
       "      <td>25</td>\n",
       "    </tr>\n",
       "    <tr>\n",
       "      <th>top</th>\n",
       "      <td>B-26055</td>\n",
       "      <td>24-11-2018</td>\n",
       "      <td>Shreya</td>\n",
       "      <td>Maharashtra</td>\n",
       "      <td>Indore</td>\n",
       "    </tr>\n",
       "    <tr>\n",
       "      <th>freq</th>\n",
       "      <td>1</td>\n",
       "      <td>7</td>\n",
       "      <td>6</td>\n",
       "      <td>94</td>\n",
       "      <td>71</td>\n",
       "    </tr>\n",
       "  </tbody>\n",
       "</table>\n",
       "</div>"
      ],
      "text/plain": [
       "       Order ID  Order Date CustomerName        State    City\n",
       "count       500         500          500          500     500\n",
       "unique      500         307          336           19      25\n",
       "top     B-26055  24-11-2018       Shreya  Maharashtra  Indore\n",
       "freq          1           7            6           94      71"
      ]
     },
     "execution_count": 26,
     "metadata": {},
     "output_type": "execute_result"
    }
   ],
   "source": [
    "df1.describe()"
   ]
  },
  {
   "cell_type": "code",
   "execution_count": 44,
   "id": "db49a027-6395-430f-8cc2-a3030225341b",
   "metadata": {},
   "outputs": [
    {
     "data": {
      "text/html": [
       "<div>\n",
       "<style scoped>\n",
       "    .dataframe tbody tr th:only-of-type {\n",
       "        vertical-align: middle;\n",
       "    }\n",
       "\n",
       "    .dataframe tbody tr th {\n",
       "        vertical-align: top;\n",
       "    }\n",
       "\n",
       "    .dataframe thead th {\n",
       "        text-align: right;\n",
       "    }\n",
       "</style>\n",
       "<table border=\"1\" class=\"dataframe\">\n",
       "  <thead>\n",
       "    <tr style=\"text-align: right;\">\n",
       "      <th></th>\n",
       "      <th>order id</th>\n",
       "      <th>amount</th>\n",
       "      <th>profit</th>\n",
       "      <th>quantity</th>\n",
       "      <th>category</th>\n",
       "      <th>sub-category</th>\n",
       "      <th>paymentmode</th>\n",
       "    </tr>\n",
       "  </thead>\n",
       "  <tbody>\n",
       "    <tr>\n",
       "      <th>0</th>\n",
       "      <td>B-25681</td>\n",
       "      <td>1096</td>\n",
       "      <td>658</td>\n",
       "      <td>7</td>\n",
       "      <td>Electronics</td>\n",
       "      <td>Electronic Games</td>\n",
       "      <td>COD</td>\n",
       "    </tr>\n",
       "    <tr>\n",
       "      <th>1</th>\n",
       "      <td>B-26055</td>\n",
       "      <td>5729</td>\n",
       "      <td>64</td>\n",
       "      <td>14</td>\n",
       "      <td>Furniture</td>\n",
       "      <td>Chairs</td>\n",
       "      <td>EMI</td>\n",
       "    </tr>\n",
       "  </tbody>\n",
       "</table>\n",
       "</div>"
      ],
      "text/plain": [
       "  order id  amount  profit  quantity     category      sub-category  \\\n",
       "0  B-25681    1096     658         7  Electronics  Electronic Games   \n",
       "1  B-26055    5729      64        14    Furniture            Chairs   \n",
       "\n",
       "  paymentmode  \n",
       "0         COD  \n",
       "1         EMI  "
      ]
     },
     "execution_count": 44,
     "metadata": {},
     "output_type": "execute_result"
    }
   ],
   "source": [
    "#DATA CLEANING\n",
    "#rename column names to lower case \n",
    "#df1.columns=df1.columns.str.lower()\n",
    "#df2.column=df2.columns.str.lower()\n",
    "df2.head(2)"
   ]
  },
  {
   "cell_type": "code",
   "execution_count": 48,
   "id": "f2535fb9-ecc3-4de4-9710-36fb9a4b43e2",
   "metadata": {},
   "outputs": [
    {
     "data": {
      "text/html": [
       "<div>\n",
       "<style scoped>\n",
       "    .dataframe tbody tr th:only-of-type {\n",
       "        vertical-align: middle;\n",
       "    }\n",
       "\n",
       "    .dataframe tbody tr th {\n",
       "        vertical-align: top;\n",
       "    }\n",
       "\n",
       "    .dataframe thead th {\n",
       "        text-align: right;\n",
       "    }\n",
       "</style>\n",
       "<table border=\"1\" class=\"dataframe\">\n",
       "  <thead>\n",
       "    <tr style=\"text-align: right;\">\n",
       "      <th></th>\n",
       "      <th>order id</th>\n",
       "      <th>order date</th>\n",
       "      <th>customername</th>\n",
       "      <th>state</th>\n",
       "      <th>city</th>\n",
       "      <th>year</th>\n",
       "      <th>month</th>\n",
       "    </tr>\n",
       "  </thead>\n",
       "  <tbody>\n",
       "    <tr>\n",
       "      <th>0</th>\n",
       "      <td>B-26055</td>\n",
       "      <td>2018-10-03</td>\n",
       "      <td>Harivansh</td>\n",
       "      <td>Uttar Pradesh</td>\n",
       "      <td>Mathura</td>\n",
       "      <td>2018</td>\n",
       "      <td>10</td>\n",
       "    </tr>\n",
       "    <tr>\n",
       "      <th>1</th>\n",
       "      <td>B-25993</td>\n",
       "      <td>2018-03-02</td>\n",
       "      <td>Madhav</td>\n",
       "      <td>Delhi</td>\n",
       "      <td>Delhi</td>\n",
       "      <td>2018</td>\n",
       "      <td>3</td>\n",
       "    </tr>\n",
       "    <tr>\n",
       "      <th>2</th>\n",
       "      <td>B-25973</td>\n",
       "      <td>2018-01-24</td>\n",
       "      <td>Madan Mohan</td>\n",
       "      <td>Uttar Pradesh</td>\n",
       "      <td>Mathura</td>\n",
       "      <td>2018</td>\n",
       "      <td>1</td>\n",
       "    </tr>\n",
       "    <tr>\n",
       "      <th>3</th>\n",
       "      <td>B-25923</td>\n",
       "      <td>2018-12-27</td>\n",
       "      <td>Gopal</td>\n",
       "      <td>Maharashtra</td>\n",
       "      <td>Mumbai</td>\n",
       "      <td>2018</td>\n",
       "      <td>12</td>\n",
       "    </tr>\n",
       "    <tr>\n",
       "      <th>4</th>\n",
       "      <td>B-25757</td>\n",
       "      <td>2018-08-21</td>\n",
       "      <td>Vishakha</td>\n",
       "      <td>Madhya Pradesh</td>\n",
       "      <td>Indore</td>\n",
       "      <td>2018</td>\n",
       "      <td>8</td>\n",
       "    </tr>\n",
       "  </tbody>\n",
       "</table>\n",
       "</div>"
      ],
      "text/plain": [
       "  order id order date customername           state     city  year  month\n",
       "0  B-26055 2018-10-03    Harivansh   Uttar Pradesh  Mathura  2018     10\n",
       "1  B-25993 2018-03-02       Madhav           Delhi    Delhi  2018      3\n",
       "2  B-25973 2018-01-24  Madan Mohan   Uttar Pradesh  Mathura  2018      1\n",
       "3  B-25923 2018-12-27        Gopal     Maharashtra   Mumbai  2018     12\n",
       "4  B-25757 2018-08-21     Vishakha  Madhya Pradesh   Indore  2018      8"
      ]
     },
     "execution_count": 48,
     "metadata": {},
     "output_type": "execute_result"
    }
   ],
   "source": [
    "#Converting the order date column to date type\n",
    "df1[\"order date\"] = pd.to_datetime(df1[\"order date\"], format=\"mixed\")\n",
    "df1[\"year\"] = df1[\"order date\"].dt.year\n",
    "df1[\"month\"] = df1[\"order date\"].dt.month\n",
    "df1.head()"
   ]
  },
  {
   "cell_type": "code",
   "execution_count": 50,
   "id": "989c4b4f-b584-435a-b65e-98842e8112f7",
   "metadata": {},
   "outputs": [
    {
     "data": {
      "text/html": [
       "<div>\n",
       "<style scoped>\n",
       "    .dataframe tbody tr th:only-of-type {\n",
       "        vertical-align: middle;\n",
       "    }\n",
       "\n",
       "    .dataframe tbody tr th {\n",
       "        vertical-align: top;\n",
       "    }\n",
       "\n",
       "    .dataframe thead th {\n",
       "        text-align: right;\n",
       "    }\n",
       "</style>\n",
       "<table border=\"1\" class=\"dataframe\">\n",
       "  <thead>\n",
       "    <tr style=\"text-align: right;\">\n",
       "      <th></th>\n",
       "      <th>order id</th>\n",
       "      <th>order date</th>\n",
       "      <th>customername</th>\n",
       "      <th>state</th>\n",
       "      <th>city</th>\n",
       "      <th>year</th>\n",
       "      <th>month</th>\n",
       "      <th>amount</th>\n",
       "      <th>profit</th>\n",
       "      <th>quantity</th>\n",
       "      <th>category</th>\n",
       "      <th>sub-category</th>\n",
       "      <th>paymentmode</th>\n",
       "    </tr>\n",
       "  </thead>\n",
       "  <tbody>\n",
       "    <tr>\n",
       "      <th>0</th>\n",
       "      <td>B-26055</td>\n",
       "      <td>2018-10-03</td>\n",
       "      <td>Harivansh</td>\n",
       "      <td>Uttar Pradesh</td>\n",
       "      <td>Mathura</td>\n",
       "      <td>2018</td>\n",
       "      <td>10</td>\n",
       "      <td>5729</td>\n",
       "      <td>64</td>\n",
       "      <td>14</td>\n",
       "      <td>Furniture</td>\n",
       "      <td>Chairs</td>\n",
       "      <td>EMI</td>\n",
       "    </tr>\n",
       "    <tr>\n",
       "      <th>1</th>\n",
       "      <td>B-26055</td>\n",
       "      <td>2018-10-03</td>\n",
       "      <td>Harivansh</td>\n",
       "      <td>Uttar Pradesh</td>\n",
       "      <td>Mathura</td>\n",
       "      <td>2018</td>\n",
       "      <td>10</td>\n",
       "      <td>671</td>\n",
       "      <td>114</td>\n",
       "      <td>9</td>\n",
       "      <td>Electronics</td>\n",
       "      <td>Phones</td>\n",
       "      <td>Credit Card</td>\n",
       "    </tr>\n",
       "    <tr>\n",
       "      <th>2</th>\n",
       "      <td>B-26055</td>\n",
       "      <td>2018-10-03</td>\n",
       "      <td>Harivansh</td>\n",
       "      <td>Uttar Pradesh</td>\n",
       "      <td>Mathura</td>\n",
       "      <td>2018</td>\n",
       "      <td>10</td>\n",
       "      <td>443</td>\n",
       "      <td>11</td>\n",
       "      <td>1</td>\n",
       "      <td>Clothing</td>\n",
       "      <td>Saree</td>\n",
       "      <td>COD</td>\n",
       "    </tr>\n",
       "    <tr>\n",
       "      <th>3</th>\n",
       "      <td>B-26055</td>\n",
       "      <td>2018-10-03</td>\n",
       "      <td>Harivansh</td>\n",
       "      <td>Uttar Pradesh</td>\n",
       "      <td>Mathura</td>\n",
       "      <td>2018</td>\n",
       "      <td>10</td>\n",
       "      <td>57</td>\n",
       "      <td>7</td>\n",
       "      <td>2</td>\n",
       "      <td>Clothing</td>\n",
       "      <td>Shirt</td>\n",
       "      <td>UPI</td>\n",
       "    </tr>\n",
       "    <tr>\n",
       "      <th>4</th>\n",
       "      <td>B-26055</td>\n",
       "      <td>2018-10-03</td>\n",
       "      <td>Harivansh</td>\n",
       "      <td>Uttar Pradesh</td>\n",
       "      <td>Mathura</td>\n",
       "      <td>2018</td>\n",
       "      <td>10</td>\n",
       "      <td>227</td>\n",
       "      <td>48</td>\n",
       "      <td>5</td>\n",
       "      <td>Clothing</td>\n",
       "      <td>Stole</td>\n",
       "      <td>COD</td>\n",
       "    </tr>\n",
       "  </tbody>\n",
       "</table>\n",
       "</div>"
      ],
      "text/plain": [
       "  order id order date customername          state     city  year  month  \\\n",
       "0  B-26055 2018-10-03    Harivansh  Uttar Pradesh  Mathura  2018     10   \n",
       "1  B-26055 2018-10-03    Harivansh  Uttar Pradesh  Mathura  2018     10   \n",
       "2  B-26055 2018-10-03    Harivansh  Uttar Pradesh  Mathura  2018     10   \n",
       "3  B-26055 2018-10-03    Harivansh  Uttar Pradesh  Mathura  2018     10   \n",
       "4  B-26055 2018-10-03    Harivansh  Uttar Pradesh  Mathura  2018     10   \n",
       "\n",
       "   amount  profit  quantity     category sub-category  paymentmode  \n",
       "0    5729      64        14    Furniture       Chairs          EMI  \n",
       "1     671     114         9  Electronics       Phones  Credit Card  \n",
       "2     443      11         1     Clothing        Saree          COD  \n",
       "3      57       7         2     Clothing        Shirt          UPI  \n",
       "4     227      48         5     Clothing        Stole          COD  "
      ]
     },
     "execution_count": 50,
     "metadata": {},
     "output_type": "execute_result"
    }
   ],
   "source": [
    "#Merge two datasets on order id\n",
    "df = pd.merge(df1,df2,on='order id',how='inner')\n",
    "df.head()"
   ]
  },
  {
   "cell_type": "code",
   "execution_count": 52,
   "id": "c8c2ba49-30ac-4a7c-85d8-1b627e454ec5",
   "metadata": {},
   "outputs": [
    {
     "name": "stdout",
     "output_type": "stream",
     "text": [
      "      category  amount\n",
      "0     Clothing  144323\n",
      "1  Electronics  166267\n",
      "2    Furniture  127181\n"
     ]
    }
   ],
   "source": [
    "#Most sold category of product\n",
    "#sales by category\n",
    "category_sales = df.groupby('category')['amount'].sum().reset_index()\n",
    "print(category_sales)"
   ]
  },
  {
   "cell_type": "code",
   "execution_count": 54,
   "id": "7b193679-36ca-4ef6-a9d6-73d0ec6cfd66",
   "metadata": {},
   "outputs": [
    {
     "data": {
      "image/png": "[encoded data removed]",
      "text/plain": [
       "<Figure size 1200x600 with 1 Axes>"
      ]
     },
     "metadata": {},
     "output_type": "display_data"
    }
   ],
   "source": [
    "plt.figure(figsize=(12,6))\n",
    "sns.barplot(x='category', y='amount', data=category_sales)\n",
    "plt.title('Total sales by category')\n",
    "plt.xlabel('category')\n",
    "plt.ylabel('total sales')\n",
    "plt.show()"
   ]
  },
  {
   "cell_type": "code",
   "execution_count": 64,
   "id": "8ab67825-af03-4119-8fc2-544c454588db",
   "metadata": {},
   "outputs": [],
   "source": [
    "#Most sold product in Electronics\n",
    "electronics_df = df[df[\"category\"]==\"Electronics\"]\n",
    "subcategory_sales = electronics_df.groupby(\"sub-category\")[\"amount\"].sum().reset_index()\n",
    "most_sold_products = subcategory_sales.sort_values(by=\"amount\", ascending=False)"
   ]
  },
  {
   "cell_type": "code",
   "execution_count": 66,
   "id": "42984114-61bf-4a22-9282-da8e2c1a3909",
   "metadata": {},
   "outputs": [
    {
     "name": "stdout",
     "output_type": "stream",
     "text": [
      "       sub-category  amount\n",
      "3          Printers   59252\n",
      "2            Phones   46119\n",
      "1  Electronic Games   39168\n",
      "0       Accessories   21728\n"
     ]
    }
   ],
   "source": [
    "print(most_sold_products)"
   ]
  },
  {
   "cell_type": "code",
   "execution_count": 68,
   "id": "2b49558d-ebe7-4270-b028-7889dbb47b9a",
   "metadata": {},
   "outputs": [
    {
     "data": {
      "image/png": "[encoded data removed]",
      "text/plain": [
       "<Figure size 1200x600 with 1 Axes>"
      ]
     },
     "metadata": {},
     "output_type": "display_data"
    }
   ],
   "source": [
    "plt.figure(figsize=(12,6))\n",
    "sns.barplot(x=\"sub-category\",y=\"amount\",data=most_sold_products)\n",
    "plt.title(\"Total sales by products\")\n",
    "plt.xlabel(\"Products\")\n",
    "plt.ylabel(\"Total Sales Amount\")\n",
    "plt.show()"
   ]
  },
  {
   "cell_type": "code",
   "execution_count": 70,
   "id": "b6d52756-48d2-49a7-8173-f0ca8be26b62",
   "metadata": {},
   "outputs": [],
   "source": [
    "#Cites and states that have most sales\n",
    "#sales by city\n",
    "city_sales = df.groupby(\"city\")[\"amount\"].sum().reset_index().sort_values(by = 'amount', ascending = False)\n",
    "#sales by state\n",
    "state_sales = df.groupby(\"state\")[\"amount\"].sum().reset_index().sort_values(by = 'amount', ascending = False)"
   ]
  },
  {
   "cell_type": "code",
   "execution_count": 72,
   "id": "eec42c87-cc42-4a98-b7e4-8137113cb872",
   "metadata": {},
   "outputs": [
    {
     "name": "stderr",
     "output_type": "stream",
     "text": [
      "C:\\Users\\manju\\AppData\\Local\\Temp\\ipykernel_23264\\1807713259.py:5: FutureWarning: \n",
      "\n",
      "Passing `palette` without assigning `hue` is deprecated and will be removed in v0.14.0. Assign the `y` variable to `hue` and set `legend=False` for the same effect.\n",
      "\n",
      "  sns.barplot(x='amount', y='city', data=city_sales.head(5), ax=axes[0], palette='viridis')\n",
      "C:\\Users\\manju\\AppData\\Local\\Temp\\ipykernel_23264\\1807713259.py:11: FutureWarning: \n",
      "\n",
      "Passing `palette` without assigning `hue` is deprecated and will be removed in v0.14.0. Assign the `y` variable to `hue` and set `legend=False` for the same effect.\n",
      "\n",
      "  sns.barplot(x='amount', y='state', data=state_sales.head(5), ax=axes[1], palette='viridis')\n"
     ]
    },
    {
     "data": {
      "image/png": "[encoded data removed]",
      "text/plain": [
       "<Figure size 1400x1200 with 2 Axes>"
      ]
     },
     "metadata": {},
     "output_type": "display_data"
    }
   ],
   "source": [
    "# Set up the matplotlib figure\n",
    "fig, axes = plt.subplots(nrows=2, ncols=1, figsize=(14, 12))\n",
    "\n",
    "# Bar chart for Sales by City\n",
    "sns.barplot(x='amount', y='city', data=city_sales.head(5), ax=axes[0], palette='viridis')\n",
    "axes[0].set_title('Top 5 Cities by City')\n",
    "axes[0].set_xlabel('Total Sales')\n",
    "axes[0].set_ylabel('City')\n",
    "\n",
    "# Bar chart for Sales by State\n",
    "sns.barplot(x='amount', y='state', data=state_sales.head(5), ax=axes[1], palette='viridis')\n",
    "axes[1].set_title('Top 5 States by Sales')\n",
    "axes[1].set_xlabel('Total Sales')\n",
    "axes[1].set_ylabel('State')\n",
    "\n",
    "# Adjust layout to prevent overlap\n",
    "plt.tight_layout()\n",
    "\n",
    "# Show the plots\n",
    "plt.show()"
   ]
  },
  {
   "cell_type": "code",
   "execution_count": 106,
   "id": "9e6fff7d-3dcc-4f04-b295-db0abea89905",
   "metadata": {},
   "outputs": [],
   "source": [
    "#load the data into sql server\n",
    "import cx_Oracle"
   ]
  },
  {
   "cell_type": "code",
   "execution_count": 110,
   "id": "9ffd1b16-bc6c-4e88-854f-9e7e7b431676",
   "metadata": {},
   "outputs": [
    {
     "name": "stdout",
     "output_type": "stream",
     "text": [
      "21.3.0.0.0\n"
     ]
    }
   ],
   "source": [
    "dsn = cx_Oracle.makedsn(host='localhost', port=1521, sid='orcl')\n",
    "con = cx_Oracle.connect(user='system', password='Saibaba@1', dsn=dsn)\n",
    "print(con.version)"
   ]
  },
  {
   "cell_type": "code",
   "execution_count": 126,
   "id": "7292a2e8-5c92-4e7e-b6a8-b15aafdb78cf",
   "metadata": {},
   "outputs": [],
   "source": [
    "cur=con.cursor()"
   ]
  },
  {
   "cell_type": "code",
   "execution_count": 134,
   "id": "329731a1-a93e-4fc2-838d-a34005b17d59",
   "metadata": {},
   "outputs": [],
   "source": [
    "import sqlalchemy as sal\n",
    "from sqlalchemy import create_engine"
   ]
  },
  {
   "cell_type": "code",
   "execution_count": null,
   "id": "c2cd6521-0cb8-440f-b248-d6d647d31f48",
   "metadata": {},
   "outputs": [],
   "source": [
    "engine = sal.create_engine(\"oracle://system:Saibaba@1@localhost:1521/orcl\")\n",
    "conn=engine.connect()"
   ]
  },
  {
   "cell_type": "code",
   "execution_count": null,
   "id": "53229030-8900-4296-b3d0-7bcdc45346d2",
   "metadata": {},
   "outputs": [],
   "source": [
    "df.to_sql('df_orders', con=conn , index=False, if_exists = 'append')"
   ]
  }
 ],
 "metadata": {
  "kernelspec": {
   "display_name": "Python 3 (ipykernel)",
   "language": "python",
   "name": "python3"
  },
  "language_info": {
   "codemirror_mode": {
    "name": "ipython",
    "version": 3
   },
   "file_extension": ".py",
   "mimetype": "text/x-python",
   "name": "python",
   "nbconvert_exporter": "python",
   "pygments_lexer": "ipython3",
   "version": "3.12.4"
  }
 },
 "nbformat": 4,
 "nbformat_minor": 5
}
